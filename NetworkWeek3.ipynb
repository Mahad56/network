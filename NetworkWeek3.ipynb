{
 "cells": [
  {
   "cell_type": "markdown",
   "metadata": {},
   "source": [
    "# Exercise 1\n",
    "I got 3  different domain names and IP\n",
    "addresses and found thier trace route information with my code.\n"
   ]
  },
  {
   "cell_type": "code",
   "execution_count": 1,
   "metadata": {},
   "outputs": [
    {
     "name": "stdout",
     "output_type": "stream",
     "text": [
      "www.google.com -> 142.250.200.36\n",
      "www.gold.ac.uk -> 159.100.136.66\n",
      "www.github.com -> 20.26.156.215\n"
     ]
    }
   ],
   "source": [
    "# %% Exercise 1 Find IP Addresses of Websites\n",
    "import socket\n",
    "\n",
    "def get_ip_address(website):\n",
    "    try:\n",
    "        ip = socket.gethostbyname(website)\n",
    "        print(f\"{website} -> {ip}\")\n",
    "    except socket.gaierror:\n",
    "        print(f\"Could not resolve {website}\")\n",
    "\n",
    "# Try with three websites\n",
    "websites = [\"www.google.com\", \"www.gold.ac.uk\", \"www.github.com\"]\n",
    "\n",
    "for site in websites:\n",
    "    get_ip_address(site)\n"
   ]
  },
  {
   "cell_type": "markdown",
   "metadata": {},
   "source": [
    "# tracerts\n",
    "\n",
    "i analysed teh outputs of tracerts\n"
   ]
  },
  {
   "cell_type": "code",
   "execution_count": 2,
   "metadata": {},
   "outputs": [
    {
     "name": "stdout",
     "output_type": "stream",
     "text": [
      "\n",
      "Tracing route to www.google.com [142.250.200.36]\n",
      "over a maximum of 30 hops:\n",
      "\n",
      "  1     2 ms     2 ms     2 ms  192.168.1.1 \n",
      "  2    26 ms    22 ms    24 ms  host-78-147-192-1.as13285.net [78.147.192.1] \n",
      "  3     7 ms     7 ms     6 ms  ae51-ner002.mlk.as13285.net [78.144.1.27] \n",
      "  4     9 ms     9 ms     8 ms  ae57-scr002.slh.as13285.net [78.144.1.54] \n",
      "  5     8 ms     9 ms     9 ms  72.14.242.6 \n",
      "  6    10 ms    10 ms    10 ms  216.239.62.75 \n",
      "  7     9 ms     9 ms    10 ms  142.251.52.145 \n",
      "  8     8 ms     9 ms     9 ms  lhr48s30-in-f4.1e100.net [142.250.200.36] \n",
      "\n",
      "Trace complete.\n",
      "\n"
     ]
    }
   ],
   "source": [
    "import subprocess\n",
    "\n",
    "def tracert(domain):\n",
    "    try:\n",
    "        result = subprocess.run([\"tracert\", domain], capture_output=True, text=True)\n",
    "        print(result.stdout)\n",
    "    except FileNotFoundError:\n",
    "        print(\"tracert command not found. Make sure it's available.\")\n",
    "    except Exception as e:  # Catching general exceptions for now\n",
    "        print(f\"An error occurred: {e}\")\n",
    "\n",
    "# User input for domain/IP\n",
    "domain = input(\"Enter the website or IP address: \")\n",
    "tracert(domain)\n"
   ]
  },
  {
   "cell_type": "markdown",
   "metadata": {},
   "source": [
    "# exercise 2\n"
   ]
  },
  {
   "cell_type": "code",
   "execution_count": 3,
   "metadata": {},
   "outputs": [
    {
     "name": "stdout",
     "output_type": "stream",
     "text": [
      "Trace route for: www.google.com\n",
      "\n",
      "Tracing route to www.google.com [142.250.200.36]\n",
      "over a maximum of 30 hops:\n",
      "\n",
      "  1     2 ms     2 ms     4 ms  192.168.1.1 \n",
      "  2    10 ms     9 ms     8 ms  host-78-147-192-1.as13285.net [78.147.192.1] \n",
      "  3    19 ms     6 ms     6 ms  ae51-ner002.mlk.as13285.net [78.144.1.27] \n",
      "  4     9 ms     9 ms     8 ms  ae57-scr002.slh.as13285.net [78.144.1.54] \n",
      "  5     9 ms     8 ms    10 ms  72.14.242.6 \n",
      "  6    10 ms    10 ms    10 ms  216.239.62.75 \n",
      "  7     9 ms     9 ms     8 ms  142.251.52.145 \n",
      "  8     8 ms     9 ms     9 ms  lhr48s30-in-f4.1e100.net [142.250.200.36] \n",
      "\n",
      "Trace complete.\n",
      "\n",
      "==================================================\n",
      "Trace route for: www.gold.ac.uk\n",
      "\n",
      "Tracing route to www.gold.ac.uk [159.100.136.66]\n",
      "over a maximum of 30 hops:\n",
      "\n",
      "  1     2 ms     1 ms     2 ms  192.168.1.1 \n",
      "  2    12 ms    13 ms    10 ms  host-78-147-192-1.as13285.net [78.147.192.1] \n",
      "  3     8 ms     7 ms     8 ms  ae51-ner002.mlk.as13285.net [78.144.1.27] \n",
      "  4    11 ms     8 ms    11 ms  ae51-scr102.loh.as13285.net [78.144.1.26] \n",
      "  5    10 ms    10 ms    12 ms  ae62-scr101.thw.as13285.net [78.144.1.114] \n",
      "  6     9 ms     9 ms    10 ms  10ge.xe-0-0-0.linxb.ldn-teleh-dis-1.peer1.net [195.66.224.156] \n",
      "  7    22 ms    12 ms    15 ms  et-3-0-0.por-5ltp1ops-dis-3.peer1.net [216.187.112.249] \n",
      "  8    23 ms    15 ms    14 ms  216.187.112.188 \n",
      "  9    12 ms    11 ms    11 ms  www.gold.ac.uk [159.100.136.66] \n",
      "\n",
      "Trace complete.\n",
      "\n",
      "==================================================\n",
      "Trace route for: www.github.com\n",
      "\n",
      "Tracing route to github.com [20.26.156.215]\n",
      "over a maximum of 30 hops:\n",
      "\n",
      "  1     2 ms     2 ms     2 ms  192.168.1.1 \n",
      "  2     8 ms    13 ms     6 ms  host-78-147-192-1.as13285.net [78.147.192.1] \n",
      "  3     7 ms     7 ms     6 ms  ae51-ner002.mlk.as13285.net [78.144.1.27] \n",
      "  4     9 ms    10 ms     8 ms  ae51-scr102.loh.as13285.net [78.144.1.26] \n",
      "  5     9 ms     8 ms     8 ms  ae62-scr101.thw.as13285.net [78.144.1.114] \n",
      "  6     9 ms    10 ms     9 ms  ae65-0.ier05.lon32.ntwk.msn.net [104.44.14.75] \n",
      "  7    10 ms    10 ms     8 ms  ae21-0.icr03.lon24.ntwk.msn.net [104.44.230.148] \n",
      "  8    10 ms     *        *     be-104-0.ibr01.lon24.ntwk.msn.net [104.44.32.24] \n",
      "  9     *        *       10 ms  51.10.27.18 \n",
      " 10     *       10 ms    11 ms  51.10.14.6 \n",
      " 11     *        *        *     Request timed out.\n",
      " 12     *        *        *     Request timed out.\n",
      " 13     *        *        *     Request timed out.\n",
      " 14     *        *        *     Request timed out.\n",
      " 15     9 ms     9 ms     9 ms  20.26.156.215 \n",
      "\n",
      "Trace complete.\n",
      "\n",
      "==================================================\n"
     ]
    }
   ],
   "source": [
    "import subprocess\n",
    "import platform\n",
    "\n",
    "def tracert(domain):\n",
    "    \"\"\"Runs tracert (Windows) or traceroute (Linux/macOS) on a given domain.\"\"\"\n",
    "    command = [\"tracert\", domain] if platform.system() == \"Windows\" else [\"traceroute\", domain]\n",
    "\n",
    "    try:\n",
    "        result = subprocess.run(command, capture_output=True, text=True)\n",
    "        print(f\"Trace route for: {domain}\")\n",
    "        print(result.stdout)\n",
    "    except FileNotFoundError:\n",
    "        print(\"Tracert/traceroute command not found. Ensure it's available on your system.\")\n",
    "    except Exception as e:\n",
    "        print(f\"An error occurred: {e}\")\n",
    "\n",
    "# Define 3 domains to test\n",
    "domains = [\"www.google.com\", \"www.gold.ac.uk\", \"www.github.com\"]\n",
    "\n",
    "# Run traceroute on each domain\n",
    "for site in domains:\n",
    "    tracert(site)\n",
    "    print(\"=\" * 50)\n"
   ]
  }
 ],
 "metadata": {
  "kernelspec": {
   "display_name": "base",
   "language": "python",
   "name": "python3"
  },
  "language_info": {
   "codemirror_mode": {
    "name": "ipython",
    "version": 3
   },
   "file_extension": ".py",
   "mimetype": "text/x-python",
   "name": "python",
   "nbconvert_exporter": "python",
   "pygments_lexer": "ipython3",
   "version": "3.12.4"
  }
 },
 "nbformat": 4,
 "nbformat_minor": 2
}
