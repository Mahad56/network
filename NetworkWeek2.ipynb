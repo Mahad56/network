{
 "cells": [
  {
   "cell_type": "markdown",
   "metadata": {},
   "source": [
    "# Exercise 2"
   ]
  },
  {
   "cell_type": "code",
   "execution_count": 8,
   "metadata": {},
   "outputs": [
    {
     "name": "stdout",
     "output_type": "stream",
     "text": [
      "['Pear', 'Apple', 'Cherry', 'Banana', 'Orange']\n",
      "('Cat', 'Dog', 'Snake')\n",
      "{'Python': 1991, 'JavaScript': 1995, 'C++': 1985}\n",
      "{'Red', 'Blue', 'Green'}\n",
      "Python is an easy-to-learn programming language.\n"
     ]
    }
   ],
   "source": [
    "# %% i. Create a list of 5 different fruits and print the list.\n",
    "fruits = [\"Pear\", \"Apple\", \"Cherry\", \"Banana\", \"Orange\"]\n",
    "print(fruits)\n",
    "\n",
    "# %% ii. Create a tuple of 3 different animals and print the tuple.\n",
    "animals = (\"Cat\", \"Dog\", \"Snake\")\n",
    "print(animals)\n",
    "\n",
    "# %% iii. Create a dictionary of 3 different key-value pairs where the keys are names of programming languages and the values are their release dates.\n",
    "programming_languages = {\n",
    "    \"Python\": 1991,\n",
    "    \"JavaScript\": 1995,\n",
    "    \"C++\": 1985\n",
    "}\n",
    "print(programming_languages)\n",
    "\n",
    "# %% iv. Create a set of 3 different colours and print the set.\n",
    "colors = {\"Red\", \"Blue\", \"Green\"}\n",
    "print(colors)\n",
    "\n",
    "# %% v. Create a string variable that contains the sentence \"Python is an easy-to-learn programming language.\"\n",
    "sentence = \"Python is an easy-to-learn programming language.\"\n",
    "print(sentence)\n",
    "\n"
   ]
  },
  {
   "cell_type": "markdown",
   "metadata": {},
   "source": [
    "# Exercise 3: Conditions"
   ]
  },
  {
   "cell_type": "code",
   "execution_count": 9,
   "metadata": {},
   "outputs": [
    {
     "name": "stdout",
     "output_type": "stream",
     "text": [
      "The number is positive.\n",
      "The word starts with a consonant.\n",
      "The numbers are not equal.\n"
     ]
    }
   ],
   "source": [
    "# %% Exercise 3: Conditions\n",
    "\n",
    "# 1. Check if a number is positive, negative, or zero\n",
    "num = int(input(\"Enter a number: \"))\n",
    "\n",
    "if num > 0:\n",
    "    print(\"The number is positive.\")\n",
    "elif num < 0:\n",
    "    print(\"The number is negative.\")\n",
    "else:\n",
    "    print(\"The number is zero.\")\n",
    "\n",
    "# %% 2. Check if a string starts with a vowel or consonant\n",
    "string = input(\"Enter a word: \").strip().lower()\n",
    "\n",
    "if string[0] in \"aeiou\":\n",
    "    print(\"The word starts with a vowel.\")\n",
    "else:\n",
    "    print(\"The word starts with a consonant.\")\n",
    "\n",
    "# %% 3. Check if two numbers are equal or not\n",
    "num1 = int(input(\"Enter first number: \"))\n",
    "num2 = int(input(\"Enter second number: \"))\n",
    "\n",
    "if num1 == num2:\n",
    "    print(\"The numbers are equal.\")\n",
    "else:\n",
    "    print(\"The numbers are not equal.\")\n"
   ]
  },
  {
   "cell_type": "markdown",
   "metadata": {},
   "source": [
    "# Excerise 4 Loops\n",
    "\n"
   ]
  },
  {
   "cell_type": "code",
   "execution_count": 10,
   "metadata": {},
   "outputs": [
    {
     "name": "stdout",
     "output_type": "stream",
     "text": [
      "1\n",
      "2\n",
      "3\n",
      "4\n",
      "5\n",
      "6\n",
      "7\n",
      "8\n",
      "9\n",
      "10\n",
      "2\n",
      "4\n",
      "6\n",
      "8\n",
      "10\n",
      "[0, 1, 1, 2, 3]\n"
     ]
    }
   ],
   "source": [
    "# %% Exercise 4: Loops\n",
    "\n",
    "# i. Print numbers from 1 to 10 using a for loop\n",
    "for i in range(1, 11):\n",
    "    print(i)\n",
    "\n",
    "# %% ii. Print even numbers from 2 to 10 using a for loop\n",
    "for i in range(2, 11, 2):\n",
    "    print(i)\n",
    "\n",
    "# %% iii. Print the first 5 numbers of the Fibonacci sequence using a while loop\n",
    "fib_sequence = [0, 1]\n",
    "while len(fib_sequence) < 5:\n",
    "    fib_sequence.append(fib_sequence[-1] + fib_sequence[-2])\n",
    "\n",
    "print(fib_sequence)\n"
   ]
  },
  {
   "cell_type": "markdown",
   "metadata": {},
   "source": [
    "# Excercise 5 functions\n"
   ]
  },
  {
   "cell_type": "code",
   "execution_count": 13,
   "metadata": {},
   "outputs": [
    {
     "name": "stdout",
     "output_type": "stream",
     "text": [
      "Sum: 41\n",
      "Largest number: 99\n",
      "Number of vowels: 7\n"
     ]
    }
   ],
   "source": [
    "# %% Exercise 5: Functions\n",
    "\n",
    "# i. Function that takes two numbers and returns their sum\n",
    "def add_numbers(a, b):\n",
    "    return a + b\n",
    "\n",
    "# result the function\n",
    "result = add_numbers(34, 7)\n",
    "print(\"Sum:\", result)\n",
    "\n",
    "# %% ii. Function that takes a list of numbers and returns the largest number\n",
    "def find_largest_number(numbers):\n",
    "    return max(numbers)\n",
    "\n",
    "# result the function\n",
    "num_list = [10, 25, 3, 99, 45]\n",
    "largest = find_largest_number(num_list)\n",
    "print(\"Largest number:\", largest)\n",
    "\n",
    "# %% iii. Function that takes a string and returns the number of vowels\n",
    "def count_vowels(s):\n",
    "    vowels = \"aeiouAEIOU\"\n",
    "    return sum(1 for char in s if char in vowels)\n",
    "\n",
    "# result the function\n",
    "text = \"Hello, how are you?\"\n",
    "vowel_count = count_vowels(text)\n",
    "print(\"Number of vowels:\", vowel_count)\n"
   ]
  },
  {
   "cell_type": "markdown",
   "metadata": {},
   "source": [
    "# Excersize 6 Functions\n",
    "\n"
   ]
  },
  {
   "cell_type": "code",
   "execution_count": 14,
   "metadata": {},
   "outputs": [
    {
     "name": "stdout",
     "output_type": "stream",
     "text": [
      "Testing Password 1:\n",
      "Password is strong.\n",
      "\n",
      "Testing Password 2:\n",
      "Password is too weak:\n",
      "- Password must be at least 8 characters long.\n",
      "- Password must contain at least one uppercase letter.\n",
      "- Password must contain at least one special character (e.g. @, #, $, %).\n",
      "Password is too weak:\n",
      "- Password must be at least 8 characters long.\n",
      "- Password must contain at least one uppercase letter.\n",
      "- Password must contain at least one special character (e.g. @, #, $, %).\n"
     ]
    }
   ],
   "source": [
    "# %% Exercise 6: Password Strength Checker\n",
    "\n",
    "import string\n",
    "\n",
    "def check_password_strength(password):\n",
    "    special_characters = string.punctuation  #  All special characters\n",
    "    errors = []\n",
    "\n",
    "    # Check length\n",
    "    if len(password) < 8:\n",
    "        errors.append(\"Password must be at least 8 characters long.\")\n",
    "\n",
    "    # Check for at least one uppercase letter\n",
    "    if not any(char.isupper() for char in password):\n",
    "        errors.append(\"Password must contain at least one uppercase letter.\")\n",
    "\n",
    "    # Check for at least one lowercase letter\n",
    "    if not any(char.islower() for char in password):\n",
    "        errors.append(\"Password must contain at least one lowercase letter.\")\n",
    "\n",
    "    # Check for at least one special character\n",
    "    if not any(char in special_characters for char in password):\n",
    "        errors.append(\"Password must contain at least one special character (e.g. @, #, $, %).\")\n",
    "\n",
    "    # Print result\n",
    "    if errors:\n",
    "        print(\"Password is too weak:\")\n",
    "        for error in errors:\n",
    "            print(\"-\", error)\n",
    "    else:\n",
    "        print(\"Password is strong.\")\n",
    "\n",
    "# Test Cases\n",
    "password1 = \"Te$ting123\"\n",
    "password2 = \"testing\"\n",
    "\n",
    "print(\"Testing Password 1:\")\n",
    "check_password_strength(password1)\n",
    "\n",
    "print(\"\\nTesting Password 2:\")\n",
    "check_password_strength(password2)\n",
    "\n",
    "# %% User Input Version\n",
    "user_password = input(\"Enter your password to check strength: \")\n",
    "check_password_strength(user_password)\n"
   ]
  },
  {
   "cell_type": "markdown",
   "metadata": {},
   "source": [
    "# Exercise 7 - Caesar Cipher"
   ]
  },
  {
   "cell_type": "code",
   "execution_count": null,
   "metadata": {},
   "outputs": [
    {
     "name": "stdout",
     "output_type": "stream",
     "text": [
      "Output: vsm am boas wg aovor\n"
     ]
    }
   ],
   "source": [
    "def caesar_cipher(message, key, mode):\n",
    "    result = \"\"\n",
    "    \n",
    "    for char in message:\n",
    "        if char.isalpha():  # checks if a letter has been inputted\n",
    "            shift = key if mode == \"encrypt\" else -key\n",
    "            ascii_offset = ord('A') if char.isupper() else ord('a')\n",
    "            new_char = chr((ord(char) - ascii_offset + shift) % 26 + ascii_offset)\n",
    "            result += new_char\n",
    "        else:\n",
    "            result += char  #  non alphabet doesnrt change\n",
    "    \n",
    "    return result\n",
    " \n",
    "# Example usage\n",
    "message = input(\"Enter the message: \")\n",
    "key = int(input(\"Enter the key: \"))\n",
    "mode = input(\"Enter mode (encrypt/decrypt): \").strip().lower()\n",
    "\n",
    "if mode not in [\"encrypt\", \"decrypt\"]:\n",
    "    print(\"Invalid mode. Please enter 'encrypt' or 'decrypt'.\")\n",
    "else:\n",
    "    output = caesar_cipher(message, key, mode)\n",
    "    print(\"Output:\", output)\n"
   ]
  },
  {
   "cell_type": "markdown",
   "metadata": {},
   "source": [
    "#  Exercise 3 - Hangman game"
   ]
  },
  {
   "cell_type": "code",
   "execution_count": 1,
   "metadata": {},
   "outputs": [
    {
     "name": "stdout",
     "output_type": "stream",
     "text": [
      "This is Hangman!\n",
      "_ _ _ _ _ _ _ _ _ _\n",
      "Invalid input. Please enter a single letter.\n",
      "Correct!\n",
      "j _ _ _ _ _ _ _ _ _\n",
      "Incorrect guesses left: 6\n",
      "Youve already guessed that letter.\n",
      "Correct!\n",
      "j a _ a _ _ _ _ _ _\n",
      "Incorrect guesses left: 6\n",
      "Youve already guessed that letter.\n",
      "Correct!\n",
      "j a v a _ _ _ _ _ _\n",
      "Incorrect guesses left: 6\n",
      "Invalid input. Please enter a single letter.\n",
      "Invalid input. Please enter a single letter.\n",
      "Invalid input. Please enter a single letter.\n",
      "Correct!\n",
      "j a v a s _ _ _ _ _\n",
      "Incorrect guesses left: 6\n",
      "Youve already guessed that letter.\n",
      "Correct!\n",
      "j a v a s c _ _ _ _\n",
      "Incorrect guesses left: 6\n",
      "Correct!\n",
      "j a v a s c r _ _ _\n",
      "Incorrect guesses left: 6\n",
      "Correct!\n",
      "j a v a s c r i _ _\n",
      "Incorrect guesses left: 6\n",
      "Correct!\n",
      "j a v a s c r i p _\n",
      "Incorrect guesses left: 6\n",
      "Correct!\n",
      "j a v a s c r i p t\n",
      "Incorrect guesses left: 6\n",
      "Congrats!! You guessed the word \"javascript\"!\n"
     ]
    }
   ],
   "source": [
    "import random\n",
    "\n",
    "def choose_word(word_list):\n",
    "    return random.choice(word_list)\n",
    "\n",
    "def display_word(word, guessed_letters):\n",
    "    return \" \".join([letter if letter in guessed_letters else \"_\" for letter in word])\n",
    "\n",
    "def hangman():\n",
    "    word_list = [\"javascript\", \"java\", \"python\"]\n",
    "    max_guesses = 6\n",
    "    word = choose_word(word_list)\n",
    "    guessed_letters = set()\n",
    "    incorrect_guesses = 0\n",
    "    \n",
    "    print(\"This is Hangman!\")\n",
    "    print(display_word(word, guessed_letters))\n",
    "    \n",
    "    while incorrect_guesses < max_guesses:\n",
    "        guess = input(\"Guess a letter: \").lower()\n",
    "        \n",
    "        if len(guess) != 1 or not guess.isalpha():\n",
    "            print(\"Invalid input. Please enter a single letter.\")\n",
    "            continue\n",
    "        \n",
    "        if guess in guessed_letters:\n",
    "            print(\"Youve already guessed that letter.\")\n",
    "            continue\n",
    "        \n",
    "        guessed_letters.add(guess)\n",
    "        \n",
    "        if guess in word:\n",
    "            print(\"Correct!\")\n",
    "        else:\n",
    "            print(\"Wrong guess!\")\n",
    "            incorrect_guesses += 1\n",
    "        \n",
    "        print(display_word(word, guessed_letters))\n",
    "        print(f\"Incorrect guesses left: {max_guesses - incorrect_guesses}\")\n",
    "        \n",
    "        if all(letter in guessed_letters for letter in word):\n",
    "            print(f\"Congrats!! You guessed the word \\\"{word}\\\"!\")\n",
    "            return\n",
    "    \n",
    "    print(f\"Game over! The word was \\\"{word}\\\".\")\n",
    "\n",
    "if __name__ == \"__main__\":\n",
    "    hangman()\n"
   ]
  }
 ],
 "metadata": {
  "kernelspec": {
   "display_name": "base",
   "language": "python",
   "name": "python3"
  },
  "language_info": {
   "codemirror_mode": {
    "name": "ipython",
    "version": 3
   },
   "file_extension": ".py",
   "mimetype": "text/x-python",
   "name": "python",
   "nbconvert_exporter": "python",
   "pygments_lexer": "ipython3",
   "version": "3.12.4"
  }
 },
 "nbformat": 4,
 "nbformat_minor": 2
}
