{
 "cells": [
  {
   "cell_type": "markdown",
   "metadata": {},
   "source": [
    "Exercsie 1\n"
   ]
  },
  {
   "cell_type": "code",
   "execution_count": null,
   "metadata": {},
   "outputs": [
    {
     "name": "stdout",
     "output_type": "stream",
     "text": [
      "UDP Chat Server is running...\n"
     ]
    }
   ],
   "source": [
    "import socket\n",
    "\n",
    "# Server configuration\n",
    "server_socket = socket.socket(socket.AF_INET, socket.SOCK_DGRAM)\n",
    "server_socket.bind(('localhost', 65433))\n",
    "\n",
    "# List to store connected clients\n",
    "clients = set()\n",
    "\n",
    "print(\"UDP Chat Server is running...\")\n",
    "\n",
    "while True:\n",
    "    data, client_address = server_socket.recvfrom(2048)  # Receive message\n",
    "    message = data.decode()\n",
    "\n",
    "    if client_address not in clients:\n",
    "        clients.add(client_address)  # Add new client\n",
    "\n",
    "    print(f\"Received from {client_address}: {message}\")\n",
    "\n",
    "    # Broadcast message to all clients except the sender\n",
    "    for client in clients:\n",
    "        if client != client_address:\n",
    "            server_socket.sendto(data, client)\n"
   ]
  },
  {
   "cell_type": "code",
   "execution_count": null,
   "metadata": {},
   "outputs": [],
   "source": [
    "import socket\n",
    "import threading\n",
    "\n",
    "# Server address\n",
    "server_address = ('localhost', 65433)\n",
    "\n",
    "# Create UDP socket\n",
    "client_socket = socket.socket(socket.AF_INET, socket.SOCK_DGRAM)\n",
    "\n",
    "# Get user name\n",
    "username = input(\"Enter your username: \")\n",
    "\n",
    "# Function to receive messages\n",
    "def receive_messages():\n",
    "    while True:\n",
    "        try:\n",
    "            data, _ = client_socket.recvfrom(2048)\n",
    "            print(\"\\n\" + data.decode())  # Print received message\n",
    "        except:\n",
    "            break\n",
    "\n",
    "# Start the receiver thread\n",
    "threading.Thread(target=receive_messages, daemon=True).start()\n",
    "\n",
    "print(\"You can start chatting! Type your message and press Enter.\")\n",
    "\n",
    "while True:\n",
    "    message = input()\n",
    "    if message.lower() == \"exit\":\n",
    "        print(\"Exiting chat...\")\n",
    "        break\n",
    "    full_message = f\"{username}: {message}\"\n",
    "    client_socket.sendto(full_message.encode(), server_address)\n",
    "\n",
    "client_socket.close()\n"
   ]
  },
  {
   "cell_type": "code",
   "execution_count": null,
   "metadata": {},
   "outputs": [],
   "source": []
  }
 ],
 "metadata": {
  "kernelspec": {
   "display_name": "base",
   "language": "python",
   "name": "python3"
  },
  "language_info": {
   "codemirror_mode": {
    "name": "ipython",
    "version": 3
   },
   "file_extension": ".py",
   "mimetype": "text/x-python",
   "name": "python",
   "nbconvert_exporter": "python",
   "pygments_lexer": "ipython3",
   "version": "3.12.4"
  }
 },
 "nbformat": 4,
 "nbformat_minor": 2
}
