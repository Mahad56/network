{
 "cells": [
  {
   "cell_type": "markdown",
   "metadata": {},
   "source": [
    "# Exercsie 1\n",
    "Simople chat app where multiple clients can communiate through a UDP server\n"
   ]
  },
  {
   "cell_type": "code",
   "execution_count": null,
   "metadata": {},
   "outputs": [],
   "source": [
    "import socket\n",
    "\n",
    "# Create a UDP socket\n",
    "client_socket = socket.socket(socket.AF_INET, socket.SOCK_DGRAM)\n",
    "server_address = ('localhost', 65433)  # Server address\n",
    "\n",
    "print(\"Type 'exit' to leave the chat.\")\n",
    "while True:\n",
    "    message = input(\"You: \")\n",
    "    \n",
    "    if message.lower() == \"exit\":\n",
    "        break\n",
    "\n",
    "    # Send message to the server\n",
    "    client_socket.sendto(message.encode(), server_address)\n",
    "\n",
    "    # Receive and print messages from the server\n",
    "    data, _ = client_socket.recvfrom(2048)\n",
    "    print(data.decode())\n",
    "\n",
    "client_socket.close()  # Closes when user exits\n"
   ]
  },
  {
   "cell_type": "markdown",
   "metadata": {},
   "source": [
    "# Exercise 2\n",
    "Stores client ID and usernames\n"
   ]
  },
  {
   "cell_type": "code",
   "execution_count": null,
   "metadata": {},
   "outputs": [
    {
     "name": "stdout",
     "output_type": "stream",
     "text": [
      "Login Successful\n"
     ]
    }
   ],
   "source": [
    "import socket\n",
    "\n",
    "# Create a UDP socket\n",
    "client_socket = socket.socket(socket.AF_INET, socket.SOCK_DGRAM)\n",
    "server_address = ('localhost', 65433)  # Server address\n",
    "\n",
    "# Ask user for a username and send login request\n",
    "username = input(\"Enter username: \")\n",
    "client_socket.sendto(f\"LOGIN:{username}\".encode(), server_address)\n",
    "\n",
    "# Login confirmation from server\n",
    "data, _ = client_socket.recvfrom(2048)\n",
    "print(data.decode())\n",
    "\n",
    "while True:\n",
    "    # Get user input\n",
    "    message = input(\"You: \")\n",
    "    \n",
    "    if message.lower() == \"exit\":\n",
    "        break\n",
    "    elif message.lower() == \"show_users\":\n",
    "        client_socket.sendto(\"SHOW_USERS\".encode(), server_address)\n",
    "        data, _ = client_socket.recvfrom(2048)\n",
    "        print(\"Active Users:\\n\", data.decode())\n",
    "    else:\n",
    "        # Send message to the server\n",
    "        client_socket.sendto(message.encode(), server_address)\n",
    "\n",
    "client_socket.close()  # Close socket when user exits\n"
   ]
  }
 ],
 "metadata": {
  "kernelspec": {
   "display_name": "base",
   "language": "python",
   "name": "python3"
  },
  "language_info": {
   "codemirror_mode": {
    "name": "ipython",
    "version": 3
   },
   "file_extension": ".py",
   "mimetype": "text/x-python",
   "name": "python",
   "nbconvert_exporter": "python",
   "pygments_lexer": "ipython3",
   "version": "3.12.4"
  }
 },
 "nbformat": 4,
 "nbformat_minor": 2
}
