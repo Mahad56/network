{
 "cells": [
  {
   "cell_type": "markdown",
   "metadata": {},
   "source": [
    "# Exercise 1\n",
    "\n",
    "Simple chat app where multiple clients can communiate through a UDP server"
   ]
  },
  {
   "cell_type": "code",
   "execution_count": null,
   "metadata": {},
   "outputs": [
    {
     "name": "stdout",
     "output_type": "stream",
     "text": [
      "UDP Chat Server is running...\n",
      "New connection from ('127.0.0.1', 50141)\n",
      "User1: hi\n"
     ]
    }
   ],
   "source": [
    "import socket\n",
    "\n",
    "# Create a UDP socket\n",
    "server_socket = socket.socket(socket.AF_INET, socket.SOCK_DGRAM)\n",
    "server_socket.bind(('localhost', 65433))  # Bind to local machine on port 65433\n",
    "\n",
    "print(\"UDP Chat Server is running...\")\n",
    "\n",
    "clients = {}  # Dictionary to store connected clients\n",
    "\n",
    "while True:\n",
    "    # Receive message from a client\n",
    "    data, client_address = server_socket.recvfrom(2048)\n",
    "    message = data.decode()\n",
    "\n",
    "    # If the client is new, assign a username\n",
    "    if client_address not in clients:\n",
    "        clients[client_address] = f\"User{len(clients) + 1}\"\n",
    "        print(f\"New connection from {client_address}\")\n",
    "\n",
    "    print(f\"{clients[client_address]}: {message}\")\n",
    "\n",
    "    # Broadcast message to all connected clients except sender\n",
    "    for client in clients.keys():\n",
    "        if client != client_address:\n",
    "            server_socket.sendto(f\"{clients[client_address]}: {message}\".encode(), client)\n"
   ]
  },
  {
   "cell_type": "markdown",
   "metadata": {},
   "source": [
    "# Exercise  2\n",
    "Stores client IP and usernames"
   ]
  },
  {
   "cell_type": "code",
   "execution_count": null,
   "metadata": {},
   "outputs": [],
   "source": [
    "import socket\n",
    "\n",
    "# Create a UDP socket\n",
    "server_socket = socket.socket(socket.AF_INET, socket.SOCK_DGRAM)\n",
    "server_socket.bind(('localhost', 65433))\n",
    "\n",
    "print(\"UDP Server running...\")\n",
    "\n",
    "clients = {}  #  User name and IP\n",
    "\n",
    "while True:\n",
    "    # Receive message from a client\n",
    "    data, client_address = server_socket.recvfrom(2048)\n",
    "    message = data.decode()\n",
    "\n",
    "    #  Login request\n",
    "    if message.startswith(\"LOGIN:\"):\n",
    "        username = message.split(\":\")[1]\n",
    "        clients[client_address] = username  # Store user IP and username\n",
    "        print(f\"{username} logged in from {client_address}\")\n",
    "        server_socket.sendto(b\"Login Successful\", client_address)\n",
    "\n",
    "    # Shows active users\n",
    "    elif message == \"SHOW_USERS\":\n",
    "        user_list = \"\\n\".join([f\"{user}: {addr}\" for addr, user in clients.items()])\n",
    "        server_socket.sendto(user_list.encode(), client_address)\n",
    "\n",
    "    # Chat messages\n",
    "    elif client_address in clients:\n",
    "        print(f\"{clients[client_address]}: {message}\")\n"
   ]
  }
 ],
 "metadata": {
  "kernelspec": {
   "display_name": "base",
   "language": "python",
   "name": "python3"
  },
  "language_info": {
   "codemirror_mode": {
    "name": "ipython",
    "version": 3
   },
   "file_extension": ".py",
   "mimetype": "text/x-python",
   "name": "python",
   "nbconvert_exporter": "python",
   "pygments_lexer": "ipython3",
   "version": "3.12.4"
  }
 },
 "nbformat": 4,
 "nbformat_minor": 2
}
