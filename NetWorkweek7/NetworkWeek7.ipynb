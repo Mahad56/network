{
 "cells": [
  {
   "cell_type": "markdown",
   "metadata": {},
   "source": [
    "# exercise 1\n"
   ]
  },
  {
   "cell_type": "code",
   "execution_count": 7,
   "metadata": {},
   "outputs": [
    {
     "name": "stdout",
     "output_type": "stream",
     "text": [
      "Original Data:  [1, 0, 1, 0, 1, 1, 0, 0]\n",
      "Computed Parity Bit (Even): 0\n",
      "\n",
      "Transmitted Data (Data + Parity): [1, 0, 1, 0, 1, 1, 0, 0, 0]\n",
      "------------------------------------------------------------\n",
      "Original Data:  [1, 1, 1, 1, 1, 1, 1, 1]\n",
      "Computed Parity Bit (Even): 0\n",
      "\n",
      "Transmitted Data (Data + Parity): [1, 1, 1, 1, 1, 1, 1, 1, 0]\n",
      "------------------------------------------------------------\n",
      "Original Data:  [0, 0, 0, 0, 0, 0, 0, 0]\n",
      "Computed Parity Bit (Even): 0\n",
      "\n",
      "Transmitted Data (Data + Parity): [0, 0, 0, 0, 0, 0, 0, 0, 0]\n",
      "------------------------------------------------------------\n",
      "Original Data:  [1, 1, 0, 1, 0, 0, 1, 1]\n",
      "Computed Parity Bit (Even): 1\n",
      "\n",
      "Transmitted Data (Data + Parity): [1, 1, 0, 1, 0, 0, 1, 1, 1]\n",
      "------------------------------------------------------------\n"
     ]
    }
   ],
   "source": [
    "# Function to compute even parity bit\n",
    "def compute_even_parity(data):\n",
    "    # Sum the data bits and take modulo 2.\n",
    "    # If sum is odd, parity bit is 1 (to make total even); if even, parity bit is 0.\n",
    "    return sum(data) % 2\n",
    "\n",
    "# Test with different data sets\n",
    "test_data_sets = [\n",
    "    [1, 0, 1, 0, 1, 1, 0, 0],  # Same as example\n",
    "    [1, 1, 1, 1, 1, 1, 1, 1],  # All 1s\n",
    "    [0, 0, 0, 0, 0, 0, 0, 0],  # All 0s\n",
    "    [1, 1, 0, 1, 0, 0, 1, 1],  # Random \n",
    "    ]\n",
    "\n",
    "for data in test_data_sets:\n",
    "    parity_bit = compute_even_parity(data)\n",
    "    print(\"Original Data: \", data)\n",
    "    print(\"Computed Parity Bit (Even):\", parity_bit)\n",
    "    \n",
    "    # Transmitted data: append parity bit to the data array\n",
    "    transmitted_data = data + [parity_bit]\n",
    "    print(\"\\nTransmitted Data (Data + Parity):\", transmitted_data)\n",
    "    print(\"-\" * 60)\n"
   ]
  },
  {
   "cell_type": "markdown",
   "metadata": {},
   "source": [
    "# Exercise 2\n"
   ]
  },
  {
   "cell_type": "code",
   "execution_count": 1,
   "metadata": {},
   "outputs": [
    {
     "name": "stdout",
     "output_type": "stream",
     "text": [
      "Original Data (With Parity Bit): [0, 1, 1, 1, 0, 0, 0, 0, 1]\n",
      "\n",
      "Data with an Error Introduced at index 3 : [0, 1, 1, 0, 0, 0, 0, 0, 1]\n",
      "\n",
      "Error detected (Parity Check Failed)\n"
     ]
    }
   ],
   "source": [
    "import random\n",
    "\n",
    "# Generate a sample binary data sequence (Example: 8-bit data)\n",
    "transmitted_data = [random.randint(0, 1) for _ in range(8)]\n",
    "\n",
    "# Calculate even parity\n",
    "parity_bit = sum(transmitted_data) % 2\n",
    "transmitted_data.append(parity_bit)  # Append parity bit at the end\n",
    "\n",
    "print(\"Original Data (With Parity Bit):\", transmitted_data)\n",
    "\n",
    "# Simulate an error: Flip a bit at a predefined location (Example: index 3)\n",
    "error_index = 3  # Change this value to test different bit positions\n",
    "data_with_error = transmitted_data.copy()\n",
    "data_with_error[error_index] = 1 - data_with_error[error_index]\n",
    "\n",
    "print(\"\\nData with an Error Introduced at index\", error_index, \":\", data_with_error)\n",
    "\n",
    "# Perform the parity check at the receiver side\n",
    "if sum(data_with_error) % 2 == 0:\n",
    "    print(\"\\nNo error detected (Parity Check Passed)\")\n",
    "else:\n",
    "    print(\"\\nError detected (Parity Check Failed)\")\n"
   ]
  }
 ],
 "metadata": {
  "kernelspec": {
   "display_name": "base",
   "language": "python",
   "name": "python3"
  },
  "language_info": {
   "codemirror_mode": {
    "name": "ipython",
    "version": 3
   },
   "file_extension": ".py",
   "mimetype": "text/x-python",
   "name": "python",
   "nbconvert_exporter": "python",
   "pygments_lexer": "ipython3",
   "version": "3.12.4"
  }
 },
 "nbformat": 4,
 "nbformat_minor": 2
}
