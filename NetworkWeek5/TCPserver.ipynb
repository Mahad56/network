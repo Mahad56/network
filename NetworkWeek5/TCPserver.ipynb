{
 "cells": [
  {
   "cell_type": "code",
   "execution_count": null,
   "metadata": {},
   "outputs": [],
   "source": [
    "import socket\n",
    "client_socket = socket.socket(socket.AF_INET, socket.SOCK_STREAM)\n",
    "client_socket.connect(('localhost', 65432))\n",
    "message = input(\"Enter message: \")\n",
    "client_socket.sendall(message.encode())\n",
    "response = client_socket.recv(1024)\n",
    "print(f\"Server response: {response.decode()}\")\n",
    "client_socket.close()\n"
   ]
  },
  {
   "cell_type": "markdown",
   "metadata": {},
   "source": [
    "# Exercise 2\n"
   ]
  },
  {
   "cell_type": "code",
   "execution_count": null,
   "metadata": {},
   "outputs": [],
   "source": [
    "import socket\n",
    "\n",
    "# Create a TCP socket\n",
    "server_socket = socket.socket(socket.AF_INET, socket.SOCK_STREAM)\n",
    "server_socket.bind(('localhost', 65432))\n",
    "server_socket.listen(1)  # Allow 1 pending connection\n",
    "\n",
    "print(\"TCP Server is listening...\")\n",
    "\n",
    "while True:\n",
    "    client_socket, client_address = server_socket.accept()\n",
    "    print(f\"Connected to {client_address}\")\n",
    "\n",
    "    data = client_socket.recv(1024)\n",
    "    print(f\"Received: {data.decode()}\")\n",
    "\n",
    "    # Echo back the data\n",
    "    client_socket.sendall(b\"ACK: \" + data)\n",
    "\n",
    "    client_socket.close()\n"
   ]
  }
 ],
 "metadata": {
  "kernelspec": {
   "display_name": "base",
   "language": "python",
   "name": "python3"
  },
  "language_info": {
   "codemirror_mode": {
    "name": "ipython",
    "version": 3
   },
   "file_extension": ".py",
   "mimetype": "text/x-python",
   "name": "python",
   "nbconvert_exporter": "python",
   "pygments_lexer": "ipython3",
   "version": "3.12.4"
  }
 },
 "nbformat": 4,
 "nbformat_minor": 2
}
